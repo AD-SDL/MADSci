{
 "cells": [
  {
   "cell_type": "code",
   "execution_count": null,
   "metadata": {},
   "outputs": [],
   "source": [
    "import os\n",
    "from pathlib import Path\n",
    "\n",
    "if Path.cwd().stem == \"test_lab\":\n",
    "    os.chdir(\"..\")\n",
    "\n",
    "path = Path.cwd() / \"test_lab\"\n",
    "if path.exists():\n",
    "    print(\"Directory test_lab/ already exists, removing...\")\n",
    "\n",
    "    def remove_children(path: Path):\n",
    "        \"\"\"Recursively remove all children of a directory.\"\"\"\n",
    "        for child in path.iterdir():\n",
    "            if child.is_file():\n",
    "                child.unlink()\n",
    "            else:\n",
    "                remove_children(child)\n",
    "                child.rmdir()\n",
    "\n",
    "    remove_children(path)\n",
    "    if path.is_dir():\n",
    "        path.rmdir()\n",
    "\n",
    "path.mkdir()\n",
    "os.chdir(path)\n",
    "print(Path.cwd())"
   ]
  },
  {
   "cell_type": "code",
   "execution_count": null,
   "metadata": {},
   "outputs": [],
   "source": [
    "# Test creating a lab\n",
    "!madsci -q lab create --name \"test_lab\"\n",
    "!madsci -q lab create --name \"test_lab_2\" --description \"A test lab with a description\"\n",
    "!madsci -q lab list\n",
    "!madsci -q lab validate\n",
    "!madsci -q lab info\n",
    "!madsci -q lab --name test_lab_2 delete\n",
    "!madsci -q lab list\n",
    "!madsci -q lab add-command --command_name \"echo\" --command \"echo 'Hello, world!'\"\n",
    "!madsci -q lab run echo\n",
    "!madsci -q lab delete-command echo\n",
    "!madsci -q lab info"
   ]
  },
  {
   "cell_type": "code",
   "execution_count": null,
   "metadata": {},
   "outputs": [],
   "source": [
    "!madsci -q workcell create --name \"test_workcell\"\n",
    "!madsci -q workcell create --name \"test_workcell_2\" --description \"A test workcell with a description\"\n",
    "!madsci -q lab info\n",
    "!madsci -q workcell list\n",
    "!madsci -q workcell info\n",
    "!madsci -q workcell validate\n",
    "!madsci -q workcell delete\n",
    "!madsci -q workcell list\n",
    "!madsci -q lab info"
   ]
  },
  {
   "cell_type": "code",
   "execution_count": null,
   "metadata": {},
   "outputs": [],
   "source": [
    "!madsci -q module create --name \"test_module\"\n",
    "!madsci -q module create --name \"test_module_2\" --description \"A test module with a description\"\n",
    "!madsci -q lab info\n",
    "!madsci -q module list\n",
    "!madsci -q module info\n",
    "!madsci -q module delete\n",
    "!madsci -q module list\n",
    "!madsci -q lab info\n",
    "!madsci -q module add-command --command_name \"echo\" --command \"echo 'Hello, world!'\"\n",
    "!madsci -q module run echo\n",
    "!madsci -q module delete-command --command_name echo\n",
    "!madsci -q module info"
   ]
  },
  {
   "cell_type": "code",
   "execution_count": null,
   "metadata": {},
   "outputs": [],
   "source": [
    "# *Test CLI node commands\n",
    "!madsci -q node create --name \"test_node\"\n",
    "!madsci -q node create --name \"test_node_2\" --description \"A test node with a description\"\n",
    "!madsci -q workcell info\n",
    "!madsci -q node list\n",
    "!madsci -q node info\n",
    "!madsci -q node delete\n",
    "!madsci -q node list\n",
    "!madsci -q workcell info\n",
    "!madsci -q node add-command --command_name \"echo\" --command \"echo 'Hello, world!'\"\n",
    "!madsci -q node run echo\n",
    "!madsci -q node delete-command --command_name echo\n",
    "!madsci -q node info"
   ]
  },
  {
   "cell_type": "code",
   "execution_count": null,
   "metadata": {},
   "outputs": [],
   "source": []
  }
 ],
 "metadata": {
  "kernelspec": {
   "display_name": ".venv",
   "language": "python",
   "name": "python3"
  },
  "language_info": {
   "codemirror_mode": {
    "name": "ipython",
    "version": 3
   },
   "file_extension": ".py",
   "mimetype": "text/x-python",
   "name": "python",
   "nbconvert_exporter": "python",
   "pygments_lexer": "ipython3",
   "version": "3.9.2"
  }
 },
 "nbformat": 4,
 "nbformat_minor": 2
}
