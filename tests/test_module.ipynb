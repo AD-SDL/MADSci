{
 "cells": [
  {
   "cell_type": "code",
   "execution_count": null,
   "metadata": {},
   "outputs": [],
   "source": [
    "from rich import print\n",
    "\n",
    "from madsci.client.node.rest_node_client import RestNodeClient\n",
    "from madsci.common.types.action_types import ActionRequest\n",
    "from madsci.common.types.node_types import Node"
   ]
  },
  {
   "cell_type": "code",
   "execution_count": null,
   "metadata": {},
   "outputs": [],
   "source": [
    "node = Node(node_url=\"http://localhost:2000\")\n",
    "node_client = RestNodeClient(node)\n",
    "\n",
    "info = node_client.get_info()\n",
    "print(info)\n",
    "status = node_client.get_status()\n",
    "print(status)\n",
    "state = node_client.get_state()\n",
    "print(state)"
   ]
  },
  {
   "cell_type": "code",
   "execution_count": null,
   "metadata": {},
   "outputs": [],
   "source": [
    "response = node_client.send_action(\n",
    "    ActionRequest(action_name=\"run_command\", args={\"command\": \"status\"}),\n",
    ")\n",
    "print(response)"
   ]
  },
  {
   "cell_type": "code",
   "execution_count": null,
   "metadata": {},
   "outputs": [],
   "source": [
    "action_history = node_client.get_action_history()\n",
    "action_id = action_history[0]\n",
    "action_response = node_client.get_action_result(action_id)\n",
    "print(action_response)"
   ]
  }
 ],
 "metadata": {
  "kernelspec": {
   "display_name": ".venv",
   "language": "python",
   "name": "python3"
  },
  "language_info": {
   "codemirror_mode": {
    "name": "ipython",
    "version": 3
   },
   "file_extension": ".py",
   "mimetype": "text/x-python",
   "name": "python",
   "nbconvert_exporter": "python",
   "pygments_lexer": "ipython3",
   "version": "3.9.2"
  }
 },
 "nbformat": 4,
 "nbformat_minor": 2
}
