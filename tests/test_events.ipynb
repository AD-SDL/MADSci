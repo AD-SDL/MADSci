{
 "cells": [
  {
   "cell_type": "code",
   "execution_count": null,
   "metadata": {},
   "outputs": [],
   "source": [
    "from madsci.client.event_client import EventClient\n",
    "from madsci.common.types.auth_types import OwnershipInfo\n",
    "from madsci.common.types.base_types import new_ulid_str"
   ]
  },
  {
   "cell_type": "code",
   "execution_count": null,
   "metadata": {},
   "outputs": [],
   "source": [
    "events = EventClient(\"node.test\", source=OwnershipInfo(node_id=new_ulid_str()))\n",
    "events.log_info(\"info_event\")\n",
    "events.log_debug(\"debug event\")\n",
    "events.log_warning(\"warning event\")\n",
    "events.log_error(\"error_event\")\n",
    "events.log_critical(\"critical_event\")"
   ]
  },
  {
   "cell_type": "code",
   "execution_count": null,
   "metadata": {},
   "outputs": [],
   "source": [
    "from madsci.client.event_client import Event\n",
    "from madsci.common.types.base_types import Error\n",
    "\n",
    "try:\n",
    "    raise Exception(\"blargh\")\n",
    "except Exception as e:\n",
    "    error = Error.from_exception(e)\n",
    "    events.log_critical(Event(event_data=error))"
   ]
  }
 ],
 "metadata": {
  "kernelspec": {
   "display_name": ".venv",
   "language": "python",
   "name": "python3"
  },
  "language_info": {
   "codemirror_mode": {
    "name": "ipython",
    "version": 3
   },
   "file_extension": ".py",
   "mimetype": "text/x-python",
   "name": "python",
   "nbconvert_exporter": "python",
   "pygments_lexer": "ipython3",
   "version": "3.9.2"
  }
 },
 "nbformat": 4,
 "nbformat_minor": 2
}
