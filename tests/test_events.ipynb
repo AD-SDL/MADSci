{
 "cells": [
  {
   "cell_type": "code",
   "execution_count": null,
   "metadata": {},
   "outputs": [],
   "source": [
    "from madsci.client.event_client import EventClient\n",
    "from madsci.common.types.auth_types import OwnershipInfo\n",
    "from madsci.common.types.base_types import new_ulid_str"
   ]
  },
  {
   "cell_type": "code",
   "execution_count": null,
   "metadata": {},
   "outputs": [],
   "source": [
    "from rich import print\n",
    "\n",
    "events = EventClient(\n",
    "    \"node.test\",\n",
    "    source=OwnershipInfo(node_id=new_ulid_str()),\n",
    "    event_server=\"http://localhost:8001\",\n",
    ")\n",
    "events.log_info(\"info_event\")\n",
    "events.log_debug(\"debug event\")\n",
    "events.log_warning(\"warning event\")\n",
    "events.log_error(\"error_event\")\n",
    "events.log_critical(\"critical_event\")\n",
    "\n",
    "print(events.get_events())"
   ]
  },
  {
   "cell_type": "code",
   "execution_count": null,
   "metadata": {},
   "outputs": [],
   "source": [
    "from madsci.client.event_client import Event\n",
    "from madsci.common.types.base_types import Error\n",
    "\n",
    "try:\n",
    "    raise Exception(\"blargh\")\n",
    "except Exception as e:\n",
    "    error = Error.from_exception(e)\n",
    "    events.log_critical(Event(event_data=error))"
   ]
  },
  {
   "cell_type": "code",
   "execution_count": null,
   "metadata": {},
   "outputs": [],
   "source": [
    "from pymongo import MongoClient"
   ]
  },
  {
   "cell_type": "code",
   "execution_count": null,
   "metadata": {},
   "outputs": [],
   "source": [
    "db_url = \"mongodb://localhost:27017\"\n",
    "client = MongoClient(db_url)"
   ]
  },
  {
   "cell_type": "code",
   "execution_count": null,
   "metadata": {},
   "outputs": [],
   "source": [
    "db = client[\"madsci_events\"]"
   ]
  },
  {
   "cell_type": "code",
   "execution_count": null,
   "metadata": {},
   "outputs": [],
   "source": [
    "collection_name = db[\"events\"]"
   ]
  },
  {
   "cell_type": "code",
   "execution_count": null,
   "metadata": {},
   "outputs": [],
   "source": [
    "from madsci.common.types.event_types import Event\n",
    "\n",
    "event = Event(event_data={\"test\": \"data\"})\n",
    "\n",
    "collection_name.insert_one(event.model_dump(mode=\"json\"))"
   ]
  },
  {
   "cell_type": "code",
   "execution_count": null,
   "metadata": {},
   "outputs": [],
   "source": [
    "result = collection_name.count_documents({})\n",
    "print(result)"
   ]
  },
  {
   "cell_type": "code",
   "execution_count": null,
   "metadata": {},
   "outputs": [],
   "source": [
    "result = collection_name.find({})\n",
    "for item in result:\n",
    "    print(Event.model_validate(item))"
   ]
  },
  {
   "cell_type": "code",
   "execution_count": null,
   "metadata": {},
   "outputs": [],
   "source": [
    "type(collection_name)"
   ]
  },
  {
   "cell_type": "code",
   "execution_count": null,
   "metadata": {},
   "outputs": [],
   "source": []
  }
 ],
 "metadata": {
  "kernelspec": {
   "display_name": ".venv",
   "language": "python",
   "name": "python3"
  },
  "language_info": {
   "codemirror_mode": {
    "name": "ipython",
    "version": 3
   },
   "file_extension": ".py",
   "mimetype": "text/x-python",
   "name": "python",
   "nbconvert_exporter": "python",
   "pygments_lexer": "ipython3",
   "version": "3.9.21"
  }
 },
 "nbformat": 4,
 "nbformat_minor": 2
}
