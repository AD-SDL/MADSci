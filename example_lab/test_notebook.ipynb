{
 "cells": [
  {
   "cell_type": "markdown",
   "id": "0",
   "metadata": {},
   "source": [
    "# Test Notebook for Automated Execution\n",
    "\n",
    "This is a simple test notebook to demonstrate automated execution capabilities."
   ]
  },
  {
   "cell_type": "code",
   "execution_count": null,
   "id": "1",
   "metadata": {},
   "outputs": [],
   "source": [
    "# Simple Python calculations\n",
    "import sys\n",
    "from datetime import datetime\n",
    "\n",
    "print(\"✅ Test notebook executed successfully!\")\n",
    "print(f\"⏰ Execution time: {datetime.now()}\")\n",
    "print(f\"🐍 Python version: {sys.version}\")"
   ]
  },
  {
   "cell_type": "code",
   "execution_count": null,
   "id": "2",
   "metadata": {
    "tags": [
     "parameters"
    ]
   },
   "outputs": [],
   "source": [
    "# Parameters cell (papermill will inject parameters here)\n",
    "test_parameter = \"default_value\"\n",
    "numeric_param = 42"
   ]
  },
  {
   "cell_type": "code",
   "execution_count": null,
   "id": "3",
   "metadata": {},
   "outputs": [],
   "source": [
    "# Use the parameters\n",
    "print(f\"📝 Parameter value: {test_parameter}\")\n",
    "print(f\"🔢 Numeric parameter: {numeric_param}\")\n",
    "print(f\"🧮 Calculation result: {numeric_param * 2}\")"
   ]
  },
  {
   "cell_type": "code",
   "execution_count": null,
   "id": "4",
   "metadata": {},
   "outputs": [],
   "source": [
    "# Test that MADSci can be imported\n",
    "try:\n",
    "    from madsci.common.utils import new_ulid_str\n",
    "\n",
    "    test_id = new_ulid_str()\n",
    "    print(f\"🆔 Generated ULID: {test_id}\")\n",
    "    print(\"✅ MADSci import successful\")\n",
    "except ImportError as e:\n",
    "    print(f\"⚠️  MADSci import failed: {e}\")"
   ]
  }
 ],
 "metadata": {
  "kernelspec": {
   "display_name": "Python 3",
   "language": "python",
   "name": "python3"
  },
  "language_info": {
   "codemirror_mode": {
    "name": "ipython",
    "version": 3
   },
   "file_extension": ".py",
   "name": "python",
   "nbconvert_exporter": "python",
   "pygments_lexer": "ipython3",
   "version": "3.12.11"
  }
 },
 "nbformat": 4,
 "nbformat_minor": 5
}
