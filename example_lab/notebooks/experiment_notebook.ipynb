{
 "cells": [
  {
   "cell_type": "markdown",
   "metadata": {},
   "source": [
    "# Conducting Automated/Autonomous Experiments with MADSci\n",
    "\n",
    "This aims to teach you how to define and run automated/autonomous experiment applications using a MADSci Workcell.\n",
    "\n",
    "## Goals\n",
    "\n",
    "After completing this notebook, you should understand how to define and use a MADSci `ExperimentApplication` to manage data, resources, logging and workflows for you scientific applications. \n"
   ]
  },
  {
   "cell_type": "markdown",
   "metadata": {},
   "source": [
    "## What is an Experiment Application?\n",
    "\n",
    "The MADSci software architecture uses a number of modular components, called managers, to organize the workflows, resources and datapoints that we will use to actually do science. In order to interface with the manager, we provide clients with predefined functions that make the manager functionality easy to understand and use. The `ExperimentApplication` class provided by MADSci leverages the Lab manager to retrieve configuration information and create clients for all managers used in a MADSci experiment. It also provides some utility functions that make it easier to run experiments and handle data locally. Finally, `ExperimentApplication`s are able to operate as Nodes, allowing you to incorporate custom functionality into workflows, including data processing and AI control"
   ]
  },
  {
   "cell_type": "code",
   "execution_count": null,
   "metadata": {},
   "outputs": [],
   "source": [
    "# Install dependencies\n",
    "%pip install madsci.experiment_application"
   ]
  },
  {
   "cell_type": "markdown",
   "metadata": {},
   "source": [
    "This demo will assume that you have the Example Lab found in the MADSci repo installed and running on your local machine. If this is not the case, follow the instructions found in the top level MADSci readme, including running Just Up\n",
    "\n",
    "\n",
    "## Setup\n",
    "\n",
    "Below is an example class inheriting from the Experiment Application class. "
   ]
  },
  {
   "cell_type": "code",
   "execution_count": null,
   "metadata": {},
   "outputs": [],
   "source": [
    "from madsci.common.types.experiment_types import ExperimentDesign\n",
    "from madsci.experiment_application.experiment_application import ExperimentApplication\n",
    "\n",
    "\n",
    "class ExampleExperimentApplication(ExperimentApplication):\n",
    "    \"\"\"An example experiment application.\"\"\"\n",
    "\n",
    "    experiment_design = ExperimentDesign(\n",
    "        experiment_name=\"Example Experiment\",\n",
    "        experiment_description=\"An Example Experiment\",\n",
    "    )\n",
    "\n",
    "\n",
    "experiment_application = ExampleExperimentApplication(\n",
    "    lab_server_url=\"http://localhost:8000\"\n",
    ")\n",
    "print(experiment_application.experiment_design)  # noqa"
   ]
  },
  {
   "cell_type": "markdown",
   "metadata": {},
   "source": [
    "An Experiment Application contains an `ExperimentDesign` object. This can be as simple as the name and description of the experiment, but can also contain checks to ensure that the resources of the lab are in the correct state to begin a run of the experiment, though this functionality is still being tested and refined\n"
   ]
  },
  {
   "cell_type": "markdown",
   "metadata": {},
   "source": [
    "### What can we get from an Experiment application?\n",
    "\n",
    "Clients! The experiment application gets the lab configuration from the Lab server, and uses this to creat clients for all of the MADSci managers available. Clients are python objects that provide structured ways to utilize the MADSi manager functionality. Below are examples of some of the most important clients and some basics of their usage\n",
    "\n",
    "\n",
    "\n",
    "\n",
    "\n",
    "\n",
    "#### Workcell Client\n",
    "\n",
    "The Workcell Client interacts with the workcell manager, and can be used to send and monitor workflows, add nodes to the workcell and request state information about the workcell and its nodes. Below are some examples of this functionality\n"
   ]
  },
  {
   "cell_type": "code",
   "execution_count": null,
   "metadata": {},
   "outputs": [],
   "source": [
    "from pathlib import Path\n",
    "\n",
    "from madsci.common.types.step_types import StepDefinition\n",
    "from madsci.common.types.workflow_types import WorkflowDefinition\n",
    "\n",
    "##An Example Workflow, defined in code. This workflow can also be read from a yaml file\n",
    "workflow_definition = WorkflowDefinition(\n",
    "    name=\"Example Workflow 2\",\n",
    "    steps=[\n",
    "        StepDefinition(\n",
    "            name=\"Run Liquidhandler Protocol\",\n",
    "            description=\"Run the Liquidhandler\",\n",
    "            node=\"liquidhandler_1\",\n",
    "            action=\"run_protocol\",\n",
    "            files={\"protocol\": str(Path(\"../protocols/protocol.py\").resolve())},\n",
    "        ),\n",
    "        StepDefinition(\n",
    "            name=\"Transfer from liquid handler to plate reader\",\n",
    "            description=\"Transfer an asset from the liquid handler to the plate reader\",\n",
    "            node=\"robotarm_1\",\n",
    "            action=\"transfer\",\n",
    "            locations={\n",
    "                \"source\": \"liquidhandler_1.deck_1\",\n",
    "                \"target\": \"platereader_1.plate_carriage\",\n",
    "            },\n",
    "        ),\n",
    "        StepDefinition(\n",
    "            name=\"run platereader measurement\",\n",
    "            description=\"measure a well on the plate reader\",\n",
    "            node=\"platereader_1\",\n",
    "            action=\"read_well\",\n",
    "        ),\n",
    "        StepDefinition(\n",
    "            name=\"Transfer from  plate reader to liquid handler\",\n",
    "            description=\"Transfer an asset from the liquid handler to the plate reader\",\n",
    "            node=\"robotarm_1\",\n",
    "            action=\"transfer\",\n",
    "            locations={\n",
    "                \"source\": \"platereader_1.plate_carriage\",\n",
    "                \"target\": \"liquidhandler_1.deck_1\",\n",
    "            },\n",
    "        ),\n",
    "    ],\n",
    ")\n",
    "\n",
    "# Run a workflow synchronously, this will wait for the workflow to complete on this line\n",
    "experiment_application.workcell_client.submit_workflow(workflow_definition)\n",
    "\n",
    "# Run a workflow asynchronously, and then query its status until it is complete\n",
    "workflow_run = experiment_application.workcell_client.submit_workflow(\n",
    "    workflow_definition, await_completion=False\n",
    ")\n",
    "while not workflow_run.status.terminal:\n",
    "    print(f\"Workflow status: {workflow_run.status}\")  # noqa\n",
    "    workflow_run = experiment_application.workcell_client.query_workflow(\n",
    "        workflow_run.workflow_id\n",
    "    )"
   ]
  }
 ],
 "metadata": {
  "kernelspec": {
   "display_name": "madsci-3.12",
   "language": "python",
   "name": "python3"
  },
  "language_info": {
   "codemirror_mode": {
    "name": "ipython",
    "version": 3
   },
   "file_extension": ".py",
   "mimetype": "text/x-python",
   "name": "python",
   "nbconvert_exporter": "python",
   "pygments_lexer": "ipython3",
   "version": "3.12.3"
  }
 },
 "nbformat": 4,
 "nbformat_minor": 2
}
