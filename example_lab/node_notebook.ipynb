{
 "cells": [
  {
   "cell_type": "markdown",
   "metadata": {},
   "source": [
    "# Integrating your Devices with MADSci Nodes\n",
    "\n",
    "This notebook aims to teach you how to automate and integrate all the devices, instruments, sensors, and robots in your self-driving lab using the MADSci Node standard.\n",
    "\n",
    "## Goals\n",
    "\n",
    "After completing this notebook, you should understand\n",
    "\n",
    "1. What we mean when we talk about a MADSci Node\n",
    "2. The MADSci Node interface standard\n",
    "3. How to integrate and automate a device using the MADSci Node standard\n",
    "4. How to use the `RestNode` python class included in `madsci.node_module` to integrate a MADSci Node\n"
   ]
  },
  {
   "cell_type": "markdown",
   "metadata": {},
   "source": [
    "Outline:\n",
    "\n",
    "- overview of madsci/nodes/terms\n",
    "- dashboard x workcell demo\n",
    "- code deep dive"
   ]
  },
  {
   "cell_type": "code",
   "execution_count": null,
   "metadata": {},
   "outputs": [],
   "source": [
    "from fastapi.testclient import TestClient\n",
    "from madsci.node_module.rest_node_module import RestNode\n",
    "from rich import print"
   ]
  },
  {
   "cell_type": "code",
   "execution_count": null,
   "metadata": {},
   "outputs": [],
   "source": [
    "class ExampleNode(RestNode):\n",
    "    \"\"\"Define an Example Node. It doesn't do anything yet, but it's a good starting point.\"\"\""
   ]
  },
  {
   "cell_type": "code",
   "execution_count": null,
   "metadata": {},
   "outputs": [],
   "source": [
    "from madsci.common.types.node_types import NodeDefinition\n",
    "\n",
    "node_definition = NodeDefinition(\n",
    "    node_name=\"example_node\",\n",
    "    module_name=\"example_node_module\",\n",
    "    description=\"An example node\",\n",
    ")\n",
    "example_node = ExampleNode(node_definition=node_definition)\n",
    "example_node.start_node(testing=True)\n",
    "test_client = TestClient(example_node.rest_api)\n",
    "with test_client as request:\n",
    "    response = request.get(\"/status\")\n",
    "    print(response.json())"
   ]
  },
  {
   "cell_type": "code",
   "execution_count": null,
   "metadata": {},
   "outputs": [],
   "source": [
    "from collections.abc import Generator\n",
    "from typing import Any\n",
    "from unittest.mock import patch\n",
    "\n",
    "from madsci.client.node.rest_node_client import RestNodeClient\n",
    "\n",
    "\n",
    "def client(test_client: TestClient) -> Generator[RestNodeClient, None, None]:\n",
    "    \"\"\"Fixture for DataClient patched to use TestClient\"\"\"\n",
    "    with patch(\"madsci.client.node.rest_node_client.requests\") as mock_requests:\n",
    "\n",
    "        def post_no_timeout(*args: Any, **kwargs: Any) -> Any:\n",
    "            kwargs.pop(\"timeout\", None)\n",
    "            return test_client.post(*args, **kwargs)\n",
    "\n",
    "        mock_requests.post.side_effect = post_no_timeout\n",
    "\n",
    "        def get_no_timeout(*args: Any, **kwargs: Any) -> Any:\n",
    "            kwargs.pop(\"timeout\", None)\n",
    "            return test_client.get(*args, **kwargs)\n",
    "\n",
    "        mock_requests.get.side_effect = get_no_timeout\n",
    "\n",
    "        yield RestNodeClient(url=\"http://localhost:2000\")"
   ]
  },
  {
   "cell_type": "code",
   "execution_count": null,
   "metadata": {},
   "outputs": [],
   "source": [
    "with (\n",
    "    test_client as request,\n",
    "    patch(\"madsci.client.node.rest_node_client.requests\") as mock_requests,\n",
    "):\n",
    "\n",
    "    def post_no_timeout(*args: Any, **kwargs: Any) -> Any:\n",
    "        \"\"\"Patch post method to remove timeout argument\"\"\"\n",
    "        kwargs.pop(\"timeout\", None)\n",
    "        return request.post(*args, **kwargs)\n",
    "\n",
    "    mock_requests.post.side_effect = post_no_timeout\n",
    "\n",
    "    def get_no_timeout(*args: Any, **kwargs: Any) -> Any:\n",
    "        \"\"\"Patch get method to remove timeout argument\"\"\"\n",
    "        kwargs.pop(\"timeout\", None)\n",
    "        return request.get(*args, **kwargs)\n",
    "\n",
    "    mock_requests.get.side_effect = get_no_timeout\n",
    "\n",
    "    rest_node_client = RestNodeClient(url=\"http://localhost:2000\")\n",
    "    print(rest_node_client.get_status())"
   ]
  },
  {
   "cell_type": "code",
   "execution_count": null,
   "metadata": {},
   "outputs": [],
   "source": []
  }
 ],
 "metadata": {
  "kernelspec": {
   "display_name": ".venv",
   "language": "python",
   "name": "python3"
  },
  "language_info": {
   "codemirror_mode": {
    "name": "ipython",
    "version": 3
   },
   "file_extension": ".py",
   "mimetype": "text/x-python",
   "name": "python",
   "nbconvert_exporter": "python",
   "pygments_lexer": "ipython3",
   "version": "3.9.2"
  }
 },
 "nbformat": 4,
 "nbformat_minor": 2
}
